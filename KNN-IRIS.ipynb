{
 "cells": [
  {
   "cell_type": "code",
   "execution_count": null,
   "metadata": {
    "colab": {
     "base_uri": "https://localhost:8080/",
     "height": 581
    },
    "id": "Gk8D-yiD5Kk4",
    "outputId": "28e61946-34b8-4a36-bb83-2b6d7fa098ae",
    "tags": []
   },
   "outputs": [],
   "source": [
    "!pip install scikit-learn\n",
    "!pip install pandas\n",
    "!pip install matplotlib\n",
    "!pip install seaborn\n",
    "\n",
    "# Import libraries\n",
    "from sklearn.datasets import load_iris\n",
    "from sklearn.model_selection import train_test_split\n",
    "from sklearn.neighbors import KNeighborsClassifier\n",
    "from sklearn.metrics import confusion_matrix\n",
    "import seaborn as sns\n",
    "import matplotlib.pyplot as plt\n",
    "import pandas as pd\n",
    "\n",
    "# The Iris dataset is a classic and very easy multi-class classification\n",
    "# dataset that has been widely used for machine learning testing and\n",
    "# experimentation. It was introduced by the British statistician and\n",
    "# biologist Ronald Fisher in 1936.\n",
    "#\n",
    "# Content: The dataset contains 150 observations of iris flowers.\n",
    "# There are 50 observations for each of the three species of iris:\n",
    "#    Iris setosa, Iris virginica, and Iris versicolor.\n",
    "#\n",
    "# Features: For each observation, the dataset includes four features:\n",
    "#    Sepal length (in cm)\n",
    "#    Sepal width (in cm)\n",
    "#    Petal length (in cm)\n",
    "#    Petal width (in cm)\n",
    "\n",
    "# Load the Iris dataset\n",
    "iris = load_iris()\n",
    "X = iris.data  # Features\n",
    "y = iris.target  # Target variable\n",
    "\n",
    "# Split the dataset into training and testing sets\n",
    "X_train, X_test, y_train, y_test = train_test_split(X, y,\n",
    "          test_size=0.3, random_state=42)  # 70% training and 30% testing\n",
    "\n",
    "# Initialize the KNN classifier with k=5 neighbors\n",
    "knn = KNeighborsClassifier(n_neighbors=5)\n",
    "\n",
    "# Fit the classifier to the training data\n",
    "knn.fit(X_train, y_train)\n",
    "\n",
    "# Predict the labels of the test data\n",
    "y_pred = knn.predict(X_test)\n",
    "\n",
    "# Compute the confusion matrix\n",
    "cm = confusion_matrix(y_test, y_pred)\n",
    "\n",
    "# Print the confusion matrix\n",
    "print(\"Confusion Matrix:\")\n",
    "# print(cm)\n",
    "\n",
    "# Plotting the confusion matrix using seaborn for better visualization\n",
    "plt.figure(figsize=(8,6))\n",
    "sns.heatmap(cm, annot=True, fmt=\"d\", cmap=\"Blues\",\n",
    "            xticklabels=iris.target_names,\n",
    "            yticklabels=iris.target_names)\n",
    "plt.ylabel('Actual')\n",
    "plt.xlabel('Predicted')\n",
    "plt.title('Confusion Matrix')\n",
    "plt.show()\n",
    "\n",
    "# Matrix Shape: The matrix is 3x3, indicating that there are three distinct\n",
    "# classes in the classification problem.\n",
    "\n",
    "# Diagonal Elements (19, 13, 13): These numbers represent the True Positives\n",
    "# for each class:\n",
    "# The first row and column intersection [19] means that 19 instances of\n",
    "# the first class were correctly predicted as the first class.\n",
    "\n",
    "# The second [13] in the middle of the matrix shows that 13 instances of\n",
    "# the second class were correctly predicted as the second class.\n",
    "\n",
    "# The third [13] indicates that 13 instances of the third class were\n",
    "# correctly identified as the third class.\n",
    "\n",
    "# Off-Diagonal Elements (0s): All the off-diagonal elements are 0,\n",
    "# indicating there were no misclassifications. In other words, no instance\n",
    "# of one class was mistakenly predicted as another class.\n"
   ]
  },
  {
   "cell_type": "code",
   "execution_count": null,
   "metadata": {
    "id": "_zLDepR25nKw"
   },
   "outputs": [],
   "source": []
  }
 ],
 "metadata": {
  "colab": {
   "provenance": []
  },
  "kernelspec": {
   "display_name": "Python 3 (ipykernel)",
   "language": "python",
   "name": "python3"
  },
  "language_info": {
   "codemirror_mode": {
    "name": "ipython",
    "version": 3
   },
   "file_extension": ".py",
   "mimetype": "text/x-python",
   "name": "python",
   "nbconvert_exporter": "python",
   "pygments_lexer": "ipython3",
   "version": "3.10.12"
  }
 },
 "nbformat": 4,
 "nbformat_minor": 4
}
